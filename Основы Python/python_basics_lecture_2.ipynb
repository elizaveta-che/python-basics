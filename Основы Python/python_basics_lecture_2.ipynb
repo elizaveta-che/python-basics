{
 "cells": [
  {
   "cell_type": "markdown",
   "metadata": {},
   "source": [
    "**Задание 1**. Даны 2 строки: *long_phrase* и *short_phrase*. \n",
    "Напишите код, который проверяет действительно ли длинная фраза *long_phrase* длиннее короткой *short_phrase*. И выводит *True* или *False* в зависимости от результата сравнения."
   ]
  },
  {
   "cell_type": "code",
   "execution_count": 1,
   "metadata": {},
   "outputs": [
    {
     "name": "stdout",
     "output_type": "stream",
     "text": [
      "True\n"
     ]
    }
   ],
   "source": [
    "long_phrase = 'Насколько проще было бы писать программы, если бы не заказчики'\n",
    "short_phrase = '640Кб должно хватить для любых задач. Билл Гейтс (по легенде)'\n",
    "print (len(long_phrase) > len(short_phrase))"
   ]
  },
  {
   "cell_type": "markdown",
   "metadata": {},
   "source": [
    "**Задание 2**. Дано значение объема файла в байтах (*в мегабайте 2^20 байт*). Напишите перевод этого значения в мегабайты в формате: \"*Объем файла равен 213.68Mb*\"."
   ]
  },
  {
   "cell_type": "code",
   "execution_count": 1,
   "metadata": {},
   "outputs": [
    {
     "name": "stdout",
     "output_type": "stream",
     "text": [
      "Введите значение 4\n",
      "Объем файла равен 4e-06Mb\n"
     ]
    }
   ],
   "source": [
    "user_input = int (input ('Введите значение '))\n",
    "result = user_input/1000000\n",
    "a = str(result)\n",
    "print('Объем файла равен '+ a + 'Mb')"
   ]
  },
  {
   "cell_type": "markdown",
   "metadata": {},
   "source": [
    "**Задание 3**. Разработать приложение для определения знака зодиака по дате рождения. Пример:\n",
    "\n",
    "Введите месяц: март\n",
    "\n",
    "Введите число: 6\n",
    "\n",
    "Вывод:\n",
    "Рыбы"
   ]
  },
  {
   "cell_type": "code",
   "execution_count": null,
   "metadata": {},
   "outputs": [],
   "source": [
    "user_input_month = str (input ('Введите месяц: '))\n",
    "if user_input_month == 'март':\n",
    "    user_input_day = int (input ('Введите число: '))\n",
    "    if 1 <= user_input_day <= 20:\n",
    "        print ('Вывод: Рыбы')\n",
    "    elif 21 <= user_input_day <= 31:\n",
    "        print ('Вывод: Овен')  \n",
    "if user_input_month == 'апрель':\n",
    "    user_input_day = int (input ('Введите число: '))\n",
    "    if 1 <= user_input_day <= 20:\n",
    "        print ('Вывод: Овен')\n",
    "    elif 21 <= user_input_day <= 30:\n",
    "        print ('Вывод: Телец')\n",
    "if user_input_month == 'май':\n",
    "    user_input_day = int (input ('Введите число: '))\n",
    "    if 1 <= user_input_day <= 20:\n",
    "        print ('Вывод: Телец')\n",
    "    elif 21 <= user_input_day <= 31:\n",
    "        print ('Вывод: Близнецы')\n",
    "if user_input_month == 'июнь':\n",
    "    user_input_day = int (input ('Введите число: '))\n",
    "    if 1 <= user_input_day <= 20:\n",
    "        print ('Вывод: Близнецы')\n",
    "    elif 21 <= user_input_day <= 30:\n",
    "        print ('Вывод: Рак')\n",
    "if user_input_month == 'июль':\n",
    "    user_input_day = int (input ('Введите число: '))\n",
    "    if 1 <= user_input_day <= 20:\n",
    "        print ('Вывод: Рак')\n",
    "    elif 21 <= user_input_day <= 31:\n",
    "        print ('Вывод: Лев')\n",
    "if user_input_month == 'август':\n",
    "    user_input_day = int (input ('Введите число: '))\n",
    "    if 1 <= user_input_day <= 20:\n",
    "        print ('Вывод: Лев')\n",
    "    elif 21 <= user_input_day <= 31:\n",
    "        print ('Вывод: Дева')\n",
    "if user_input_month == 'сентябрь':\n",
    "    user_input_day = int (input ('Введите число: '))\n",
    "    if 1 <= user_input_day <= 20:\n",
    "        print ('Вывод: Дева')\n",
    "    elif 21 <= user_input_day <= 30:\n",
    "        print ('Вывод: Весы')\n",
    "if user_input_month == 'октябрь':\n",
    "    user_input_day = int (input ('Введите число: '))\n",
    "    if 1 <= user_input_day <= 20:\n",
    "        print ('Вывод: Весы')\n",
    "    elif 21 <= user_input_day <= 31:\n",
    "        print ('Вывод: Скорпион')\n",
    "if user_input_month == 'ноябрь':\n",
    "    user_input_day = int (input ('Введите число: '))\n",
    "    if 1 <= user_input_day <= 20:\n",
    "        print ('Вывод: Скорпион')\n",
    "    elif 21 <= user_input_day <= 30:\n",
    "        print ('Вывод: Стрелец')\n",
    "if user_input_month == 'декабрь':\n",
    "    user_input_day = int (input ('Введите число: '))\n",
    "    if 1 <= user_input_day <= 20:\n",
    "        print ('Вывод: Стрелец')\n",
    "    elif 21 <= user_input_day <= 31:\n",
    "        print ('Вывод: Козерог')\n",
    "if user_input_month == 'январь':\n",
    "    user_input_day = int (input ('Введите число: '))\n",
    "    if 1 <= user_input_day <= 20:\n",
    "        print ('Вывод: Козерог')\n",
    "    elif 21 <= user_input_day <= 31:\n",
    "        print ('Вывод: Водолей')\n",
    "if user_input_month == 'февраль':\n",
    "    user_input_day = int (input ('Введите число: '))\n",
    "    if 1 <= user_input_day <= 20:\n",
    "        print ('Вывод: Водолей')\n",
    "    elif 21 <= user_input_day <= 29:\n",
    "        print ('Вывод: Рыбы')"
   ]
  },
  {
   "cell_type": "markdown",
   "metadata": {},
   "source": [
    "**Задание 4**. Нужно разработать приложение для финансового планирования.\n",
    "Приложение учитывает сколько уходит на ипотеку, \"на жизнь\" и сколько нужно отложить на пенсию.\n",
    "Пользователь вводит:\n",
    "- заработанную плату в месяц.\n",
    "- сколько процентов от ЗП уходит на ипотеку.\n",
    "- сколько процентов от ЗП уходит \"на жизнь\".\n",
    "- сколько раз приходит премия в год.\n",
    "\n",
    "Остальная часть заработанной платы откладывается на пенсию.\n",
    "\n",
    "Также пользователю приходит премия в размере зарплаты, от которой половина уходит на отпуск, а вторая половина откладывается.\n",
    "\n",
    "Программа должна учитывать сколько премий было в год.\n",
    "\n",
    "Нужно вывести сколько денег тратит пользователь на ипотеку и сколько он накопит за год.\n",
    "\n",
    "Пример:\n",
    "\n",
    "Введите заработанную плату в месяц: 100000\n",
    "\n",
    "Введите сколько процентов уходит на ипотеку: 30\n",
    "\n",
    "Введите сколько процентов уходит на жизнь: 50\n",
    "\n",
    "Введите количество премий за год: 2\n",
    "\n",
    "Вывод:\n",
    "На ипотеку было потрачено: 360000 рублей\n",
    "Было накоплено: 340000 рублей"
   ]
  },
  {
   "cell_type": "markdown",
   "metadata": {},
   "source": [
    "* С приведенными в задании данными совпадает только если в \"пенсии\" не делить премию на 2, хотя по условию это нужно сделать. Не могу понять, где у меня ошибка. Привожу два решения. Второе мне кажется правильным "
   ]
  },
  {
   "cell_type": "code",
   "execution_count": 16,
   "metadata": {},
   "outputs": [
    {
     "name": "stdout",
     "output_type": "stream",
     "text": [
      "Введите заработанную плату в месяц: 100000\n",
      "Введите сколько процентов уходит на ипотеку: 30\n",
      "Введите сколько процентов уходит на жизнь: 50\n",
      "Введите количество премий за год: 2\n",
      "На ипотеку было потрачено: 360000.0. Накоплено: 340000.0.\n"
     ]
    }
   ],
   "source": [
    "user_input_salary = int (input ('Введите заработанную плату в месяц: '))\n",
    "mortgage_percent = int (input ('Введите сколько процентов уходит на ипотеку: '))\n",
    "life_persent = int (input ('Введите сколько процентов уходит на жизнь: '))\n",
    "bonus_time = int (input ('Введите количество премий за год: '))\n",
    "bonus = user_input_salary * bonus_time\n",
    "mortage = user_input_salary / 100 * user_input_mortgage * 12\n",
    "life = user_input_salary / 100 * user_input_life * 12 + bonus/2\n",
    "pension = user_input_salary * 12 + bonus - mortage - life\n",
    "a = str (mortage)\n",
    "b = str (pension)\n",
    "print ('На ипотеку было потрачено: ' + a + '. ''Накоплено: ' + b + '.')"
   ]
  },
  {
   "cell_type": "code",
   "execution_count": 17,
   "metadata": {},
   "outputs": [
    {
     "name": "stdout",
     "output_type": "stream",
     "text": [
      "Введите заработанную плату в месяц: 100000\n",
      "Введите сколько процентов уходит на ипотеку: 30\n",
      "Введите сколько процентов уходит на жизнь: 50\n",
      "Введите количество премий за год: 2\n",
      "На ипотеку было потрачено: 360000.0. Накоплено: 240000.0.\n"
     ]
    }
   ],
   "source": [
    "user_input_salary = int (input ('Введите заработанную плату в месяц: '))\n",
    "mortgage_percent = int (input ('Введите сколько процентов уходит на ипотеку: '))\n",
    "life_persent = int (input ('Введите сколько процентов уходит на жизнь: '))\n",
    "bonus_time = int (input ('Введите количество премий за год: '))\n",
    "bonus = user_input_salary * bonus_time\n",
    "mortage = user_input_salary / 100 * user_input_mortgage * 12\n",
    "life = user_input_salary / 100 * user_input_life * 12 + bonus/2\n",
    "pension = user_input_salary * 12 + bonus/2 - mortage - life\n",
    "a = str (mortage)\n",
    "b = str (pension)\n",
    "print ('На ипотеку было потрачено: ' + a + '. ''Накоплено: ' + b + '.')"
   ]
  },
  {
   "cell_type": "code",
   "execution_count": null,
   "metadata": {},
   "outputs": [],
   "source": []
  }
 ],
 "metadata": {
  "kernelspec": {
   "display_name": "Python 3",
   "language": "python",
   "name": "python3"
  },
  "language_info": {
   "codemirror_mode": {
    "name": "ipython",
    "version": 3
   },
   "file_extension": ".py",
   "mimetype": "text/x-python",
   "name": "python",
   "nbconvert_exporter": "python",
   "pygments_lexer": "ipython3",
   "version": "3.7.6"
  }
 },
 "nbformat": 4,
 "nbformat_minor": 4
}
